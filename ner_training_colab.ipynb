{
 "cells": [
  {
   "cell_type": "markdown",
   "metadata": {
    "colab": {},
    "colab_type": "code",
    "id": "F6dlx6CXan5A"
   },
   "source": [
    "from google.colab import drive\n",
    "drive.mount('/content/gdrive/',force_remount=True)"
   ]
  },
  {
   "cell_type": "markdown",
   "metadata": {},
   "source": [
    "# Install Dependencies"
   ]
  },
  {
   "cell_type": "code",
   "execution_count": 0,
   "metadata": {
    "colab": {},
    "colab_type": "code",
    "id": "_WnIGLPlbBZh"
   },
   "outputs": [],
   "source": [
    "!pip install docx2txt\n",
    "!pip install PyMuPDF\n",
    "!pip install spacy==2.0.16\n",
    "!pip install msgpack==0.5.6"
   ]
  },
  {
   "cell_type": "markdown",
   "metadata": {},
   "source": [
    "# Data in json format downloaded from dataturks website\n"
   ]
  },
  {
   "cell_type": "code",
   "execution_count": 0,
   "metadata": {
    "colab": {},
    "colab_type": "code",
    "id": "npGYj1n1a8fj"
   },
   "outputs": [],
   "source": [
    "TRAIN_DIR = \"/content/gdrive/My Drive/resume_1.json\""
   ]
  },
  {
   "cell_type": "code",
   "execution_count": 0,
   "metadata": {
    "colab": {},
    "colab_type": "code",
    "id": "GlQ-f67Ra8pF"
   },
   "outputs": [],
   "source": [
    "import json\n",
    "import random\n",
    "import logging\n",
    "from sklearn.metrics import classification_report\n",
    "from sklearn.metrics import precision_recall_fscore_support\n",
    "from spacy.gold import GoldParse\n",
    "from spacy.scorer import Scorer\n",
    "from sklearn.metrics import accuracy_score\n",
    "import spacy\n"
   ]
  },
  {
   "cell_type": "code",
   "execution_count": 0,
   "metadata": {
    "colab": {},
    "colab_type": "code",
    "id": "BSpgrH_aa8m4"
   },
   "outputs": [],
   "source": [
    "def convert_dataturks_to_spacy(dataturks_JSON_FilePath):\n",
    "    try:\n",
    "        training_data = []\n",
    "        lines=[]\n",
    "        lines = [json.loads(line) for line in open(dataturks_JSON_FilePath, 'r',encoding='UTF-8')]\n",
    "        for line in lines:\n",
    "            \n",
    "            data = line\n",
    "            \n",
    "            text = data['content']\n",
    "            entities = []\n",
    "            for annot in data['annotation']:\n",
    "            \n",
    "                \n",
    "            \n",
    "                point = annot['points'][0]\n",
    "\n",
    "                labels = annot['label']\n",
    "      \n",
    "               \n",
    "                if not isinstance(labels, list):\n",
    "         \n",
    "                    labels = [labels]\n",
    "    \n",
    "\n",
    "                for label in labels:\n",
    "\n",
    "                    #dataturks indices are both inclusive [start, end] but spacy is not [start, end)\n",
    "                    entities.append((point['start'], point['end'] + 1 ,label))\n",
    "\n",
    "\n",
    "\n",
    "            training_data.append((text, {\"entities\" : entities}))\n",
    "\n",
    "        return training_data\n",
    "    except Exception as e:\n",
    "        logging.exception(\"Unable to process \" + dataturks_JSON_FilePath + \"\\n\" + \"error = \" + str(e))\n",
    "        return None"
   ]
  },
  {
   "cell_type": "code",
   "execution_count": 0,
   "metadata": {
    "colab": {},
    "colab_type": "code",
    "id": "CwF-40r6a8kP"
   },
   "outputs": [],
   "source": [
    "TRAIN_DATA = convert_dataturks_to_spacy(TRAIN_DIR)\n",
    "nlp = spacy.blank('en') \n",
    "if 'ner' not in nlp.pipe_names:\n",
    "    ner = nlp.create_pipe('ner')\n",
    "    nlp.add_pipe(ner, last=True)\n",
    "    \n",
    "\n",
    "for _, annotations in TRAIN_DATA:\n",
    "      for ent in annotations.get('entities'):\n",
    "        ner.add_label(ent[2])\n",
    "\n",
    "\n",
    "other_pipes = [pipe for pipe in nlp.pipe_names if pipe != 'ner']\n",
    "with nlp.disable_pipes(*other_pipes):  # only train NER\n",
    "    optimizer = nlp.begin_training()\n",
    "    for itn in range(30):\n",
    "        print(\"Statring iteration \" + str(itn))\n",
    "        random.shuffle(TRAIN_DATA)\n",
    "        losses = {}\n",
    "        for text, annotations in TRAIN_DATA:\n",
    "            nlp.update(\n",
    "                [text],  \n",
    "                [annotations],  \n",
    "                drop=0.3,  \n",
    "                sgd=optimizer, \n",
    "                losses=losses)\n",
    "        print(losses)\n"
   ]
  },
  {
   "cell_type": "code",
   "execution_count": 0,
   "metadata": {
    "colab": {},
    "colab_type": "code",
    "id": "tVNE_0AbbU3j"
   },
   "outputs": [],
   "source": [
    "nlp.to_disk(\"/content/gdrive/My Drive/my_model\")\n",
    "print(\"Saved model \")\n"
   ]
  }
 ],
 "metadata": {
  "colab": {
   "name": "ner_training_colab.ipynb",
   "provenance": []
  },
  "kernelspec": {
   "display_name": "Python 3",
   "language": "python",
   "name": "python3"
  },
  "language_info": {
   "codemirror_mode": {
    "name": "ipython",
    "version": 3
   },
   "file_extension": ".py",
   "mimetype": "text/x-python",
   "name": "python",
   "nbconvert_exporter": "python",
   "pygments_lexer": "ipython3",
   "version": "3.7.6"
  }
 },
 "nbformat": 4,
 "nbformat_minor": 1
}
